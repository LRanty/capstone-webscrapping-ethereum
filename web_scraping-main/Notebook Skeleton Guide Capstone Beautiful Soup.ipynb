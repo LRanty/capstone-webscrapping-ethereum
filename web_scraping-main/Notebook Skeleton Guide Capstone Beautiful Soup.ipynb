{
 "cells": [
  {
   "cell_type": "markdown",
   "metadata": {},
   "source": [
    "# Capstone Webscrapping using BeautifulSoup\n",
    "\n",
    "This notebook contains guidances & tasks on the data processing for the application\n",
    "\n",
    "## Background\n",
    "\n",
    "At this project we try to scrap ethereum sales volume from coingecko data center website. CoinGecko is a digital currency price and information data platform. It helps its users quantitatively evaluate and rank their coins. CoinGecko is a Singapore-based company. We will try to scrap this sites for educational purpose only.\n",
    "\n",
    "A lot of you might ask why we need to scrap this data from the sites while it already have a good enough visualisation. Let's say we have task to make a forecast on Ethereum Price. To do that we need to have the data, and scrapping is a good way to collect the data we don't have from public.\n",
    "\n",
    "We will scrap 4 points from this sites. One is the Market Cap, market capitalization (or market cap) is the total value of all the coins that have been mined. It's calculated by multiplying the number of coins in circulation by the current market price of a single coin. Second is Volume, Volume is the amount of currency traded over a period of time. Third is Open, refer to the price at which a cryptocurrency opens at a time period. Last is Close, refer to the price at which a cryptocurrency closes at a time period\n",
    "\n",
    "\n",
    "\n",
    "## Requesting the Data and Creating a BeautifulSoup\n",
    "\n",
    "Let's begin with requesting the web from the site with `get` method."
   ]
  },
  {
   "cell_type": "code",
   "execution_count": 1,
   "metadata": {
    "ExecuteTime": {
     "end_time": "2020-01-13T05:12:23.275508Z",
     "start_time": "2020-01-13T05:12:20.009898Z"
    }
   },
   "outputs": [],
   "source": [
    "import requests\n",
    "\n",
    "url_get = requests.get('https://www.coingecko.com/en/coins/ethereum/historical_data/usd?start_date=2020-01-01&end_date=2021-06-30#panel')"
   ]
  },
  {
   "cell_type": "markdown",
   "metadata": {},
   "source": [
    "To visualize what exactly you get from the `request.get`, we can use .content to see what we exactly get, in here i slice it so it won't make our screen full of the html we get from the page. You can delete the slicing if you want to see what we fully get."
   ]
  },
  {
   "cell_type": "code",
   "execution_count": 2,
   "metadata": {
    "ExecuteTime": {
     "end_time": "2020-01-13T05:12:23.290648Z",
     "start_time": "2020-01-13T05:12:23.277650Z"
    }
   },
   "outputs": [
    {
     "data": {
      "text/plain": [
       "b'!DOCTYPE html>\\n<html lang=\"en\">\\n<head>\\n<script async defer src=\"https://www.googleoptimize.com/optimize.js?id=GTM-W3CD992\"></script>\\n<meta charset=\"utf-8\">\\n<meta http-equiv=\"X-UA-Compatible\" content=\"IE=edge\">\\n<meta name=\"viewport\" content=\"width=device-width, initial-scale=1.0\">\\n<link rel=\"shortcut icon\" href=\"/favicon.ico\">\\n<link type=\"application/opensearchdescription+xml\" rel=\"search\" href=\"/OpensearchDescription.xml\" />\\n<title>Ethereum USD Historical Data | CoinGecko</title>\\n<meta name=\"de'"
      ]
     },
     "execution_count": 2,
     "metadata": {},
     "output_type": "execute_result"
    }
   ],
   "source": [
    "url_get.content[1:500]"
   ]
  },
  {
   "cell_type": "markdown",
   "metadata": {},
   "source": [
    "As we can see we get a very unstructured and complex html, which actually contains the codes needed to show the webpages on your web browser. But we as human still confused what and where we can use that piece of code, so here where we use the beautifulsoup. Beautiful soup class will result a beautifulsoup object. Beautiful Soup transforms a complex HTML document into a complex tree of Python objects. \n",
    "\n",
    "Let's make Beautiful soup object and feel free to explore the object here."
   ]
  },
  {
   "cell_type": "code",
   "execution_count": 3,
   "metadata": {
    "ExecuteTime": {
     "end_time": "2020-01-13T05:12:23.808122Z",
     "start_time": "2020-01-13T05:12:23.292610Z"
    }
   },
   "outputs": [
    {
     "name": "stdout",
     "output_type": "stream",
     "text": [
      "<class 'bs4.BeautifulSoup'>\n"
     ]
    }
   ],
   "source": [
    "from bs4 import BeautifulSoup \n",
    "\n",
    "soup = BeautifulSoup(url_get.content,\"html.parser\")\n",
    "print(type(soup))"
   ]
  },
  {
   "cell_type": "markdown",
   "metadata": {},
   "source": [
    "Let's see how our beautifulsoup looks like. As you can see, the content is the same with our get_url object but it's tidier. Also beautifulsoup give us method to make it even more prettier, for tidyness purpose we slice to only see first 500 character."
   ]
  },
  {
   "cell_type": "code",
   "execution_count": 4,
   "metadata": {},
   "outputs": [
    {
     "name": "stdout",
     "output_type": "stream",
     "text": [
      "<!DOCTYPE html>\n",
      "<html lang=\"en\">\n",
      " <head>\n",
      "  <script async=\"\" defer=\"\" src=\"https://www.googleoptimize.com/optimize.js?id=GTM-W3CD992\">\n",
      "  </script>\n",
      "  <meta charset=\"utf-8\"/>\n",
      "  <meta content=\"IE=edge\" http-equiv=\"X-UA-Compatible\"/>\n",
      "  <meta content=\"width=device-width, initial-scale=1.0\" name=\"viewport\"/>\n",
      "  <link href=\"/favicon.ico\" rel=\"shortcut icon\"/>\n",
      "  <link href=\"/OpensearchDescription.xml\" rel=\"search\" type=\"application/opensearchdescription+xml\">\n",
      "   <title>\n",
      "    Ethereum USD Historical Data | \n"
     ]
    }
   ],
   "source": [
    "print(soup.prettify()[:500])"
   ]
  },
  {
   "cell_type": "markdown",
   "metadata": {},
   "source": [
    "## Finding the right key to scrap the data & Extracting the right information"
   ]
  },
  {
   "cell_type": "markdown",
   "metadata": {},
   "source": [
    "Find the key and put the key into the `.find()` Put all the exploring the right key at this cell. The information that we need are the date, market cap, volume, opening and closing price which contain in the table. To know which part of the code refer to that table, we can just move our cusor there, right click, and inspect element. Then we will see the HTML code.\n",
    "\n",
    "\n",
    "From inspect element we know that we need to find the line table with class table table-striped text-sm text-lg-normal. We can use the find method at our beautifusoup object. Let's also call our object to see what we get."
   ]
  },
  {
   "cell_type": "code",
   "execution_count": 5,
   "metadata": {
    "ExecuteTime": {
     "end_time": "2020-01-13T05:12:23.878904Z",
     "start_time": "2020-01-13T05:12:23.854974Z"
    },
    "scrolled": true
   },
   "outputs": [
    {
     "data": {
      "text/plain": [
       "[<tr>\n",
       " <th class=\"font-semibold text-center\" scope=\"row\">2021-06-30</th>\n",
       " <td class=\"text-center\">\n",
       " $253,607,549,372\n",
       " </td>\n",
       " <td class=\"text-center\">\n",
       " $27,149,143,847\n",
       " </td>\n",
       " <td class=\"text-center\">\n",
       " $2,169.40\n",
       " </td>\n",
       " <td class=\"text-center\">\n",
       " N/A\n",
       " </td>\n",
       " </tr>,\n",
       " <tr>\n",
       " <th class=\"font-semibold text-center\" scope=\"row\">2021-06-29</th>\n",
       " <td class=\"text-center\">\n",
       " $243,040,539,437\n",
       " </td>\n",
       " <td class=\"text-center\">\n",
       " $30,629,329,806\n",
       " </td>\n",
       " <td class=\"text-center\">\n",
       " $2,087.52\n",
       " </td>\n",
       " <td class=\"text-center\">\n",
       " $2,169.40\n",
       " </td>\n",
       " </tr>,\n",
       " <tr>\n",
       " <th class=\"font-semibold text-center\" scope=\"row\">2021-06-28</th>\n",
       " <td class=\"text-center\">\n",
       " $229,354,016,311\n",
       " </td>\n",
       " <td class=\"text-center\">\n",
       " $24,316,408,028\n",
       " </td>\n",
       " <td class=\"text-center\">\n",
       " $1,973.93\n",
       " </td>\n",
       " <td class=\"text-center\">\n",
       " $2,087.52\n",
       " </td>\n",
       " </tr>,\n",
       " <tr>\n",
       " <th class=\"font-semibold text-center\" scope=\"row\">2021-06-27</th>\n",
       " <td class=\"text-center\">\n",
       " $209,989,265,221\n",
       " </td>\n",
       " <td class=\"text-center\">\n",
       " $24,249,510,321\n",
       " </td>\n",
       " <td class=\"text-center\">\n",
       " $1,817.05\n",
       " </td>\n",
       " <td class=\"text-center\">\n",
       " $1,973.93\n",
       " </td>\n",
       " </tr>,\n",
       " <tr>\n",
       " <th class=\"font-semibold text-center\" scope=\"row\">2021-06-26</th>\n",
       " <td class=\"text-center\">\n",
       " $213,871,849,532\n",
       " </td>\n",
       " <td class=\"text-center\">\n",
       " $25,981,381,067\n",
       " </td>\n",
       " <td class=\"text-center\">\n",
       " $1,833.46\n",
       " </td>\n",
       " <td class=\"text-center\">\n",
       " $1,817.05\n",
       " </td>\n",
       " </tr>]"
      ]
     },
     "execution_count": 5,
     "metadata": {},
     "output_type": "execute_result"
    }
   ],
   "source": [
    "table_eth = soup.find('table', attrs={'class':'table table-striped text-sm text-lg-normal'}).find('tbody').find_all('tr')\n",
    "table_eth[:5]"
   ]
  },
  {
   "cell_type": "markdown",
   "metadata": {},
   "source": [
    "Finding row length."
   ]
  },
  {
   "cell_type": "code",
   "execution_count": 6,
   "metadata": {},
   "outputs": [
    {
     "data": {
      "text/plain": [
       "60"
      ]
     },
     "execution_count": 6,
     "metadata": {},
     "output_type": "execute_result"
    }
   ],
   "source": [
    "len(table_eth)"
   ]
  },
  {
   "cell_type": "markdown",
   "metadata": {},
   "source": [
    "## Extract elements of the table\n",
    "\n",
    "Extract all the information which is necessary. In this case we have 5 information, \"Date, Market_Cap, Volume, Open, Close\""
   ]
  },
  {
   "cell_type": "code",
   "execution_count": 7,
   "metadata": {},
   "outputs": [
    {
     "data": {
      "text/plain": [
       "'2021-06-30'"
      ]
     },
     "execution_count": 7,
     "metadata": {},
     "output_type": "execute_result"
    }
   ],
   "source": [
    "# Date\n",
    "table_eth[0].find_all('th')[0].get_text()"
   ]
  },
  {
   "cell_type": "code",
   "execution_count": 8,
   "metadata": {},
   "outputs": [
    {
     "data": {
      "text/plain": [
       "'$253,607,549,372'"
      ]
     },
     "execution_count": 8,
     "metadata": {},
     "output_type": "execute_result"
    }
   ],
   "source": [
    "# Market Cap\n",
    "table_eth[0].find_all('td')[0].get_text().strip()"
   ]
  },
  {
   "cell_type": "code",
   "execution_count": 9,
   "metadata": {},
   "outputs": [
    {
     "data": {
      "text/plain": [
       "'$27,149,143,847'"
      ]
     },
     "execution_count": 9,
     "metadata": {},
     "output_type": "execute_result"
    }
   ],
   "source": [
    "# Volume\n",
    "table_eth[0].find_all('td')[1].get_text().strip()"
   ]
  },
  {
   "cell_type": "code",
   "execution_count": 10,
   "metadata": {},
   "outputs": [
    {
     "data": {
      "text/plain": [
       "'$2,169.40'"
      ]
     },
     "execution_count": 10,
     "metadata": {},
     "output_type": "execute_result"
    }
   ],
   "source": [
    "#Open\n",
    "table_eth[0].find_all('td')[2].get_text().strip()"
   ]
  },
  {
   "cell_type": "code",
   "execution_count": 11,
   "metadata": {
    "scrolled": true
   },
   "outputs": [
    {
     "data": {
      "text/plain": [
       "'N/A'"
      ]
     },
     "execution_count": 11,
     "metadata": {},
     "output_type": "execute_result"
    }
   ],
   "source": [
    "#Close\n",
    "table_eth[0].find_all('td')[3].get_text().strip()"
   ]
  },
  {
   "cell_type": "markdown",
   "metadata": {},
   "source": [
    "- Do the scrapping process here. Put everything together For Loop. \n",
    "- We will make a loop from one until the the length of the table row,\n",
    "- Which we will find all cell of the column one to five which contain \"Date, Market_Cap, Volume, Open, Close\".\n",
    "- Then we will append it to our tuple that we prepared before,\n",
    "- Every one iteration we will scrap one line of the table."
   ]
  },
  {
   "cell_type": "code",
   "execution_count": 12,
   "metadata": {},
   "outputs": [],
   "source": [
    "Date =[]\n",
    "Market_Cap = []\n",
    "Volume = []\n",
    "Open = []\n",
    "Close = [] #init\n",
    "\n",
    "for i in table_eth:\n",
    "    #Date\n",
    "    Date.append(i.find_all('th')[0].get_text())\n",
    "    \n",
    "    #Market Cap\n",
    "    Market_Cap.append(i.find_all('td')[0].get_text().strip().replace('$','').replace(',','').replace('.',''))\n",
    "    \n",
    "    #Volume\n",
    "    Volume.append(i.find_all('td')[1].get_text().strip().replace('$','').replace(',','').replace('.',''))\n",
    "    \n",
    "    #Open\n",
    "    Open.append(i.find_all('td')[2].get_text().strip().replace('$','').replace(',','').replace('.',''))\n",
    "    \n",
    "    #Close\n",
    "    Close.append(i.find_all('td')[3].get_text().strip().replace('$','').replace(',','').replace('.',''))"
   ]
  },
  {
   "cell_type": "markdown",
   "metadata": {},
   "source": [
    "## Creating data frame & Data wrangling"
   ]
  },
  {
   "cell_type": "markdown",
   "metadata": {},
   "source": [
    "Put the array into dataframe"
   ]
  },
  {
   "cell_type": "code",
   "execution_count": 13,
   "metadata": {
    "ExecuteTime": {
     "end_time": "2020-01-13T05:12:41.517372Z",
     "start_time": "2020-01-13T05:12:29.130015Z"
    },
    "scrolled": false
   },
   "outputs": [
    {
     "data": {
      "text/html": [
       "<div>\n",
       "<style scoped>\n",
       "    .dataframe tbody tr th:only-of-type {\n",
       "        vertical-align: middle;\n",
       "    }\n",
       "\n",
       "    .dataframe tbody tr th {\n",
       "        vertical-align: top;\n",
       "    }\n",
       "\n",
       "    .dataframe thead th {\n",
       "        text-align: right;\n",
       "    }\n",
       "</style>\n",
       "<table border=\"1\" class=\"dataframe\">\n",
       "  <thead>\n",
       "    <tr style=\"text-align: right;\">\n",
       "      <th></th>\n",
       "      <th>Date</th>\n",
       "      <th>Market Cap</th>\n",
       "      <th>Volume</th>\n",
       "      <th>Open</th>\n",
       "      <th>Close</th>\n",
       "    </tr>\n",
       "  </thead>\n",
       "  <tbody>\n",
       "    <tr>\n",
       "      <th>0</th>\n",
       "      <td>2021-06-30</td>\n",
       "      <td>253607549372</td>\n",
       "      <td>27149143847</td>\n",
       "      <td>216940</td>\n",
       "      <td>N/A</td>\n",
       "    </tr>\n",
       "    <tr>\n",
       "      <th>1</th>\n",
       "      <td>2021-06-29</td>\n",
       "      <td>243040539437</td>\n",
       "      <td>30629329806</td>\n",
       "      <td>208752</td>\n",
       "      <td>216940</td>\n",
       "    </tr>\n",
       "    <tr>\n",
       "      <th>2</th>\n",
       "      <td>2021-06-28</td>\n",
       "      <td>229354016311</td>\n",
       "      <td>24316408028</td>\n",
       "      <td>197393</td>\n",
       "      <td>208752</td>\n",
       "    </tr>\n",
       "    <tr>\n",
       "      <th>3</th>\n",
       "      <td>2021-06-27</td>\n",
       "      <td>209989265221</td>\n",
       "      <td>24249510321</td>\n",
       "      <td>181705</td>\n",
       "      <td>197393</td>\n",
       "    </tr>\n",
       "    <tr>\n",
       "      <th>4</th>\n",
       "      <td>2021-06-26</td>\n",
       "      <td>213871849532</td>\n",
       "      <td>25981381067</td>\n",
       "      <td>183346</td>\n",
       "      <td>181705</td>\n",
       "    </tr>\n",
       "  </tbody>\n",
       "</table>\n",
       "</div>"
      ],
      "text/plain": [
       "         Date    Market Cap       Volume    Open   Close\n",
       "0  2021-06-30  253607549372  27149143847  216940     N/A\n",
       "1  2021-06-29  243040539437  30629329806  208752  216940\n",
       "2  2021-06-28  229354016311  24316408028  197393  208752\n",
       "3  2021-06-27  209989265221  24249510321  181705  197393\n",
       "4  2021-06-26  213871849532  25981381067  183346  181705"
      ]
     },
     "execution_count": 13,
     "metadata": {},
     "output_type": "execute_result"
    }
   ],
   "source": [
    "import pandas as pd\n",
    "\n",
    "result = pd.DataFrame({'Date': Date, 'Market Cap': Market_Cap, 'Volume': Volume, 'Open': Open, 'Close': Close})\n",
    "result.head()"
   ]
  },
  {
   "cell_type": "code",
   "execution_count": 14,
   "metadata": {},
   "outputs": [
    {
     "data": {
      "text/plain": [
       "(60, 5)"
      ]
     },
     "execution_count": 14,
     "metadata": {},
     "output_type": "execute_result"
    }
   ],
   "source": [
    "result.shape"
   ]
  },
  {
   "cell_type": "code",
   "execution_count": 15,
   "metadata": {
    "scrolled": true
   },
   "outputs": [
    {
     "data": {
      "text/plain": [
       "Date          object\n",
       "Market Cap    object\n",
       "Volume        object\n",
       "Open          object\n",
       "Close         object\n",
       "dtype: object"
      ]
     },
     "execution_count": 15,
     "metadata": {},
     "output_type": "execute_result"
    }
   ],
   "source": [
    "result.dtypes"
   ]
  },
  {
   "cell_type": "markdown",
   "metadata": {},
   "source": [
    "Do the data cleaning here. We need to replace the \"N/A\" to \"NaN in order to be able to convert into float. Then lastly let's fix our data type."
   ]
  },
  {
   "cell_type": "code",
   "execution_count": 16,
   "metadata": {
    "scrolled": true
   },
   "outputs": [
    {
     "data": {
      "text/html": [
       "<div>\n",
       "<style scoped>\n",
       "    .dataframe tbody tr th:only-of-type {\n",
       "        vertical-align: middle;\n",
       "    }\n",
       "\n",
       "    .dataframe tbody tr th {\n",
       "        vertical-align: top;\n",
       "    }\n",
       "\n",
       "    .dataframe thead th {\n",
       "        text-align: right;\n",
       "    }\n",
       "</style>\n",
       "<table border=\"1\" class=\"dataframe\">\n",
       "  <thead>\n",
       "    <tr style=\"text-align: right;\">\n",
       "      <th></th>\n",
       "      <th>Date</th>\n",
       "      <th>Market Cap</th>\n",
       "      <th>Volume</th>\n",
       "      <th>Open</th>\n",
       "      <th>Close</th>\n",
       "    </tr>\n",
       "  </thead>\n",
       "  <tbody>\n",
       "    <tr>\n",
       "      <th>0</th>\n",
       "      <td>2021-06-30</td>\n",
       "      <td>253607549372</td>\n",
       "      <td>27149143847</td>\n",
       "      <td>216940</td>\n",
       "      <td>NaN</td>\n",
       "    </tr>\n",
       "    <tr>\n",
       "      <th>1</th>\n",
       "      <td>2021-06-29</td>\n",
       "      <td>243040539437</td>\n",
       "      <td>30629329806</td>\n",
       "      <td>208752</td>\n",
       "      <td>216940</td>\n",
       "    </tr>\n",
       "    <tr>\n",
       "      <th>2</th>\n",
       "      <td>2021-06-28</td>\n",
       "      <td>229354016311</td>\n",
       "      <td>24316408028</td>\n",
       "      <td>197393</td>\n",
       "      <td>208752</td>\n",
       "    </tr>\n",
       "    <tr>\n",
       "      <th>3</th>\n",
       "      <td>2021-06-27</td>\n",
       "      <td>209989265221</td>\n",
       "      <td>24249510321</td>\n",
       "      <td>181705</td>\n",
       "      <td>197393</td>\n",
       "    </tr>\n",
       "    <tr>\n",
       "      <th>4</th>\n",
       "      <td>2021-06-26</td>\n",
       "      <td>213871849532</td>\n",
       "      <td>25981381067</td>\n",
       "      <td>183346</td>\n",
       "      <td>181705</td>\n",
       "    </tr>\n",
       "    <tr>\n",
       "      <th>5</th>\n",
       "      <td>2021-06-25</td>\n",
       "      <td>231644258719</td>\n",
       "      <td>22447489242</td>\n",
       "      <td>199008</td>\n",
       "      <td>183346</td>\n",
       "    </tr>\n",
       "    <tr>\n",
       "      <th>6</th>\n",
       "      <td>2021-06-24</td>\n",
       "      <td>229518675837</td>\n",
       "      <td>28098744045</td>\n",
       "      <td>197111</td>\n",
       "      <td>199008</td>\n",
       "    </tr>\n",
       "    <tr>\n",
       "      <th>7</th>\n",
       "      <td>2021-06-23</td>\n",
       "      <td>216876757209</td>\n",
       "      <td>38755019937</td>\n",
       "      <td>187536</td>\n",
       "      <td>197111</td>\n",
       "    </tr>\n",
       "    <tr>\n",
       "      <th>8</th>\n",
       "      <td>2021-06-22</td>\n",
       "      <td>223202708789</td>\n",
       "      <td>39499960408</td>\n",
       "      <td>190012</td>\n",
       "      <td>187536</td>\n",
       "    </tr>\n",
       "    <tr>\n",
       "      <th>9</th>\n",
       "      <td>2021-06-21</td>\n",
       "      <td>261478202409</td>\n",
       "      <td>26235850447</td>\n",
       "      <td>225156</td>\n",
       "      <td>190012</td>\n",
       "    </tr>\n",
       "    <tr>\n",
       "      <th>10</th>\n",
       "      <td>2021-06-20</td>\n",
       "      <td>253396709039</td>\n",
       "      <td>20456963375</td>\n",
       "      <td>217631</td>\n",
       "      <td>225156</td>\n",
       "    </tr>\n",
       "    <tr>\n",
       "      <th>11</th>\n",
       "      <td>2021-06-19</td>\n",
       "      <td>260039646334</td>\n",
       "      <td>26204484921</td>\n",
       "      <td>223155</td>\n",
       "      <td>217631</td>\n",
       "    </tr>\n",
       "    <tr>\n",
       "      <th>12</th>\n",
       "      <td>2021-06-18</td>\n",
       "      <td>275415199642</td>\n",
       "      <td>25708624827</td>\n",
       "      <td>238074</td>\n",
       "      <td>223155</td>\n",
       "    </tr>\n",
       "    <tr>\n",
       "      <th>13</th>\n",
       "      <td>2021-06-17</td>\n",
       "      <td>274666655405</td>\n",
       "      <td>26150320395</td>\n",
       "      <td>236587</td>\n",
       "      <td>238074</td>\n",
       "    </tr>\n",
       "    <tr>\n",
       "      <th>14</th>\n",
       "      <td>2021-06-16</td>\n",
       "      <td>298324322330</td>\n",
       "      <td>26803957680</td>\n",
       "      <td>256119</td>\n",
       "      <td>236587</td>\n",
       "    </tr>\n",
       "    <tr>\n",
       "      <th>15</th>\n",
       "      <td>2021-06-15</td>\n",
       "      <td>300405113218</td>\n",
       "      <td>28128172338</td>\n",
       "      <td>258738</td>\n",
       "      <td>256119</td>\n",
       "    </tr>\n",
       "    <tr>\n",
       "      <th>16</th>\n",
       "      <td>2021-06-14</td>\n",
       "      <td>292767118262</td>\n",
       "      <td>29382118964</td>\n",
       "      <td>251777</td>\n",
       "      <td>258738</td>\n",
       "    </tr>\n",
       "    <tr>\n",
       "      <th>17</th>\n",
       "      <td>2021-06-13</td>\n",
       "      <td>278223731471</td>\n",
       "      <td>28235882062</td>\n",
       "      <td>237999</td>\n",
       "      <td>251777</td>\n",
       "    </tr>\n",
       "    <tr>\n",
       "      <th>18</th>\n",
       "      <td>2021-06-12</td>\n",
       "      <td>272748408238</td>\n",
       "      <td>26751786966</td>\n",
       "      <td>235663</td>\n",
       "      <td>237999</td>\n",
       "    </tr>\n",
       "    <tr>\n",
       "      <th>19</th>\n",
       "      <td>2021-06-11</td>\n",
       "      <td>289444120869</td>\n",
       "      <td>33075957437</td>\n",
       "      <td>248660</td>\n",
       "      <td>235663</td>\n",
       "    </tr>\n",
       "    <tr>\n",
       "      <th>20</th>\n",
       "      <td>2021-06-10</td>\n",
       "      <td>304761367058</td>\n",
       "      <td>43973432438</td>\n",
       "      <td>262063</td>\n",
       "      <td>248660</td>\n",
       "    </tr>\n",
       "    <tr>\n",
       "      <th>21</th>\n",
       "      <td>2021-06-09</td>\n",
       "      <td>294068580259</td>\n",
       "      <td>48344195674</td>\n",
       "      <td>252802</td>\n",
       "      <td>262063</td>\n",
       "    </tr>\n",
       "    <tr>\n",
       "      <th>22</th>\n",
       "      <td>2021-06-08</td>\n",
       "      <td>299857516850</td>\n",
       "      <td>37385872210</td>\n",
       "      <td>258054</td>\n",
       "      <td>252802</td>\n",
       "    </tr>\n",
       "    <tr>\n",
       "      <th>23</th>\n",
       "      <td>2021-06-07</td>\n",
       "      <td>315044778229</td>\n",
       "      <td>29050162249</td>\n",
       "      <td>271155</td>\n",
       "      <td>258054</td>\n",
       "    </tr>\n",
       "    <tr>\n",
       "      <th>24</th>\n",
       "      <td>2021-06-06</td>\n",
       "      <td>302743417252</td>\n",
       "      <td>34731979705</td>\n",
       "      <td>262477</td>\n",
       "      <td>271155</td>\n",
       "    </tr>\n",
       "    <tr>\n",
       "      <th>25</th>\n",
       "      <td>2021-06-05</td>\n",
       "      <td>312991097367</td>\n",
       "      <td>39996583175</td>\n",
       "      <td>269450</td>\n",
       "      <td>262477</td>\n",
       "    </tr>\n",
       "    <tr>\n",
       "      <th>26</th>\n",
       "      <td>2021-06-04</td>\n",
       "      <td>333964598115</td>\n",
       "      <td>38104663185</td>\n",
       "      <td>285828</td>\n",
       "      <td>269450</td>\n",
       "    </tr>\n",
       "    <tr>\n",
       "      <th>27</th>\n",
       "      <td>2021-06-03</td>\n",
       "      <td>315313344229</td>\n",
       "      <td>39148856525</td>\n",
       "      <td>271715</td>\n",
       "      <td>285828</td>\n",
       "    </tr>\n",
       "    <tr>\n",
       "      <th>28</th>\n",
       "      <td>2021-06-02</td>\n",
       "      <td>306488816882</td>\n",
       "      <td>39898648753</td>\n",
       "      <td>263266</td>\n",
       "      <td>271715</td>\n",
       "    </tr>\n",
       "    <tr>\n",
       "      <th>29</th>\n",
       "      <td>2021-06-01</td>\n",
       "      <td>314463232387</td>\n",
       "      <td>44445830388</td>\n",
       "      <td>270843</td>\n",
       "      <td>263266</td>\n",
       "    </tr>\n",
       "    <tr>\n",
       "      <th>30</th>\n",
       "      <td>2021-05-31</td>\n",
       "      <td>278270782654</td>\n",
       "      <td>37392021394</td>\n",
       "      <td>239585</td>\n",
       "      <td>270843</td>\n",
       "    </tr>\n",
       "    <tr>\n",
       "      <th>31</th>\n",
       "      <td>2021-05-30</td>\n",
       "      <td>268672927561</td>\n",
       "      <td>47141249182</td>\n",
       "      <td>229463</td>\n",
       "      <td>239585</td>\n",
       "    </tr>\n",
       "    <tr>\n",
       "      <th>32</th>\n",
       "      <td>2021-05-29</td>\n",
       "      <td>282228507935</td>\n",
       "      <td>49493519120</td>\n",
       "      <td>243333</td>\n",
       "      <td>229463</td>\n",
       "    </tr>\n",
       "    <tr>\n",
       "      <th>33</th>\n",
       "      <td>2021-05-28</td>\n",
       "      <td>319404492003</td>\n",
       "      <td>44070236220</td>\n",
       "      <td>274299</td>\n",
       "      <td>243333</td>\n",
       "    </tr>\n",
       "    <tr>\n",
       "      <th>34</th>\n",
       "      <td>2021-05-27</td>\n",
       "      <td>334435114557</td>\n",
       "      <td>53115222705</td>\n",
       "      <td>288248</td>\n",
       "      <td>274299</td>\n",
       "    </tr>\n",
       "    <tr>\n",
       "      <th>35</th>\n",
       "      <td>2021-05-26</td>\n",
       "      <td>312566215517</td>\n",
       "      <td>92468701274</td>\n",
       "      <td>269548</td>\n",
       "      <td>288248</td>\n",
       "    </tr>\n",
       "    <tr>\n",
       "      <th>36</th>\n",
       "      <td>2021-05-25</td>\n",
       "      <td>306046123108</td>\n",
       "      <td>73496058831</td>\n",
       "      <td>264016</td>\n",
       "      <td>269548</td>\n",
       "    </tr>\n",
       "    <tr>\n",
       "      <th>37</th>\n",
       "      <td>2021-05-24</td>\n",
       "      <td>244070264761</td>\n",
       "      <td>77839858614</td>\n",
       "      <td>212004</td>\n",
       "      <td>264016</td>\n",
       "    </tr>\n",
       "    <tr>\n",
       "      <th>38</th>\n",
       "      <td>2021-05-23</td>\n",
       "      <td>268503273693</td>\n",
       "      <td>102524751568</td>\n",
       "      <td>230637</td>\n",
       "      <td>212004</td>\n",
       "    </tr>\n",
       "    <tr>\n",
       "      <th>39</th>\n",
       "      <td>2021-05-22</td>\n",
       "      <td>279623071719</td>\n",
       "      <td>115000901892</td>\n",
       "      <td>241910</td>\n",
       "      <td>230637</td>\n",
       "    </tr>\n",
       "    <tr>\n",
       "      <th>40</th>\n",
       "      <td>2021-05-21</td>\n",
       "      <td>322162621075</td>\n",
       "      <td>92538167828</td>\n",
       "      <td>277828</td>\n",
       "      <td>241910</td>\n",
       "    </tr>\n",
       "    <tr>\n",
       "      <th>41</th>\n",
       "      <td>2021-05-20</td>\n",
       "      <td>295232973802</td>\n",
       "      <td>117905041184</td>\n",
       "      <td>250501</td>\n",
       "      <td>277828</td>\n",
       "    </tr>\n",
       "    <tr>\n",
       "      <th>42</th>\n",
       "      <td>2021-05-19</td>\n",
       "      <td>390227141901</td>\n",
       "      <td>59160464538</td>\n",
       "      <td>339905</td>\n",
       "      <td>250501</td>\n",
       "    </tr>\n",
       "    <tr>\n",
       "      <th>43</th>\n",
       "      <td>2021-05-18</td>\n",
       "      <td>381161976478</td>\n",
       "      <td>75100584776</td>\n",
       "      <td>328823</td>\n",
       "      <td>339905</td>\n",
       "    </tr>\n",
       "    <tr>\n",
       "      <th>44</th>\n",
       "      <td>2021-05-17</td>\n",
       "      <td>414265118100</td>\n",
       "      <td>67531308124</td>\n",
       "      <td>360200</td>\n",
       "      <td>328823</td>\n",
       "    </tr>\n",
       "    <tr>\n",
       "      <th>45</th>\n",
       "      <td>2021-05-16</td>\n",
       "      <td>425715131137</td>\n",
       "      <td>58150860876</td>\n",
       "      <td>365992</td>\n",
       "      <td>360200</td>\n",
       "    </tr>\n",
       "    <tr>\n",
       "      <th>46</th>\n",
       "      <td>2021-05-15</td>\n",
       "      <td>473724804235</td>\n",
       "      <td>63587729060</td>\n",
       "      <td>408873</td>\n",
       "      <td>365992</td>\n",
       "    </tr>\n",
       "    <tr>\n",
       "      <th>47</th>\n",
       "      <td>2021-05-14</td>\n",
       "      <td>431105320829</td>\n",
       "      <td>97383442023</td>\n",
       "      <td>375034</td>\n",
       "      <td>408873</td>\n",
       "    </tr>\n",
       "    <tr>\n",
       "      <th>48</th>\n",
       "      <td>2021-05-13</td>\n",
       "      <td>465647015109</td>\n",
       "      <td>78772032255</td>\n",
       "      <td>390611</td>\n",
       "      <td>375034</td>\n",
       "    </tr>\n",
       "    <tr>\n",
       "      <th>49</th>\n",
       "      <td>2021-05-12</td>\n",
       "      <td>481380994613</td>\n",
       "      <td>67869198116</td>\n",
       "      <td>418279</td>\n",
       "      <td>390611</td>\n",
       "    </tr>\n",
       "    <tr>\n",
       "      <th>50</th>\n",
       "      <td>2021-05-11</td>\n",
       "      <td>461040789541</td>\n",
       "      <td>80827215918</td>\n",
       "      <td>397961</td>\n",
       "      <td>418279</td>\n",
       "    </tr>\n",
       "    <tr>\n",
       "      <th>51</th>\n",
       "      <td>2021-05-10</td>\n",
       "      <td>455448294001</td>\n",
       "      <td>61625657297</td>\n",
       "      <td>393275</td>\n",
       "      <td>397961</td>\n",
       "    </tr>\n",
       "    <tr>\n",
       "      <th>52</th>\n",
       "      <td>2021-05-09</td>\n",
       "      <td>450716254203</td>\n",
       "      <td>60174921874</td>\n",
       "      <td>391274</td>\n",
       "      <td>393275</td>\n",
       "    </tr>\n",
       "    <tr>\n",
       "      <th>53</th>\n",
       "      <td>2021-05-08</td>\n",
       "      <td>404284565610</td>\n",
       "      <td>44980768421</td>\n",
       "      <td>349353</td>\n",
       "      <td>391274</td>\n",
       "    </tr>\n",
       "    <tr>\n",
       "      <th>54</th>\n",
       "      <td>2021-05-07</td>\n",
       "      <td>405355930466</td>\n",
       "      <td>50430169753</td>\n",
       "      <td>349508</td>\n",
       "      <td>349353</td>\n",
       "    </tr>\n",
       "    <tr>\n",
       "      <th>55</th>\n",
       "      <td>2021-05-06</td>\n",
       "      <td>409191426696</td>\n",
       "      <td>63552342594</td>\n",
       "      <td>352456</td>\n",
       "      <td>349508</td>\n",
       "    </tr>\n",
       "    <tr>\n",
       "      <th>56</th>\n",
       "      <td>2021-05-05</td>\n",
       "      <td>380565712270</td>\n",
       "      <td>78437235046</td>\n",
       "      <td>324566</td>\n",
       "      <td>352456</td>\n",
       "    </tr>\n",
       "    <tr>\n",
       "      <th>57</th>\n",
       "      <td>2021-05-04</td>\n",
       "      <td>398258027094</td>\n",
       "      <td>64192650586</td>\n",
       "      <td>343986</td>\n",
       "      <td>324566</td>\n",
       "    </tr>\n",
       "    <tr>\n",
       "      <th>58</th>\n",
       "      <td>2021-05-03</td>\n",
       "      <td>341953594507</td>\n",
       "      <td>35727432416</td>\n",
       "      <td>295330</td>\n",
       "      <td>343986</td>\n",
       "    </tr>\n",
       "    <tr>\n",
       "      <th>59</th>\n",
       "      <td>2021-05-02</td>\n",
       "      <td>340730211564</td>\n",
       "      <td>36721647718</td>\n",
       "      <td>294492</td>\n",
       "      <td>295330</td>\n",
       "    </tr>\n",
       "  </tbody>\n",
       "</table>\n",
       "</div>"
      ],
      "text/plain": [
       "          Date    Market Cap        Volume    Open   Close\n",
       "0   2021-06-30  253607549372   27149143847  216940     NaN\n",
       "1   2021-06-29  243040539437   30629329806  208752  216940\n",
       "2   2021-06-28  229354016311   24316408028  197393  208752\n",
       "3   2021-06-27  209989265221   24249510321  181705  197393\n",
       "4   2021-06-26  213871849532   25981381067  183346  181705\n",
       "5   2021-06-25  231644258719   22447489242  199008  183346\n",
       "6   2021-06-24  229518675837   28098744045  197111  199008\n",
       "7   2021-06-23  216876757209   38755019937  187536  197111\n",
       "8   2021-06-22  223202708789   39499960408  190012  187536\n",
       "9   2021-06-21  261478202409   26235850447  225156  190012\n",
       "10  2021-06-20  253396709039   20456963375  217631  225156\n",
       "11  2021-06-19  260039646334   26204484921  223155  217631\n",
       "12  2021-06-18  275415199642   25708624827  238074  223155\n",
       "13  2021-06-17  274666655405   26150320395  236587  238074\n",
       "14  2021-06-16  298324322330   26803957680  256119  236587\n",
       "15  2021-06-15  300405113218   28128172338  258738  256119\n",
       "16  2021-06-14  292767118262   29382118964  251777  258738\n",
       "17  2021-06-13  278223731471   28235882062  237999  251777\n",
       "18  2021-06-12  272748408238   26751786966  235663  237999\n",
       "19  2021-06-11  289444120869   33075957437  248660  235663\n",
       "20  2021-06-10  304761367058   43973432438  262063  248660\n",
       "21  2021-06-09  294068580259   48344195674  252802  262063\n",
       "22  2021-06-08  299857516850   37385872210  258054  252802\n",
       "23  2021-06-07  315044778229   29050162249  271155  258054\n",
       "24  2021-06-06  302743417252   34731979705  262477  271155\n",
       "25  2021-06-05  312991097367   39996583175  269450  262477\n",
       "26  2021-06-04  333964598115   38104663185  285828  269450\n",
       "27  2021-06-03  315313344229   39148856525  271715  285828\n",
       "28  2021-06-02  306488816882   39898648753  263266  271715\n",
       "29  2021-06-01  314463232387   44445830388  270843  263266\n",
       "30  2021-05-31  278270782654   37392021394  239585  270843\n",
       "31  2021-05-30  268672927561   47141249182  229463  239585\n",
       "32  2021-05-29  282228507935   49493519120  243333  229463\n",
       "33  2021-05-28  319404492003   44070236220  274299  243333\n",
       "34  2021-05-27  334435114557   53115222705  288248  274299\n",
       "35  2021-05-26  312566215517   92468701274  269548  288248\n",
       "36  2021-05-25  306046123108   73496058831  264016  269548\n",
       "37  2021-05-24  244070264761   77839858614  212004  264016\n",
       "38  2021-05-23  268503273693  102524751568  230637  212004\n",
       "39  2021-05-22  279623071719  115000901892  241910  230637\n",
       "40  2021-05-21  322162621075   92538167828  277828  241910\n",
       "41  2021-05-20  295232973802  117905041184  250501  277828\n",
       "42  2021-05-19  390227141901   59160464538  339905  250501\n",
       "43  2021-05-18  381161976478   75100584776  328823  339905\n",
       "44  2021-05-17  414265118100   67531308124  360200  328823\n",
       "45  2021-05-16  425715131137   58150860876  365992  360200\n",
       "46  2021-05-15  473724804235   63587729060  408873  365992\n",
       "47  2021-05-14  431105320829   97383442023  375034  408873\n",
       "48  2021-05-13  465647015109   78772032255  390611  375034\n",
       "49  2021-05-12  481380994613   67869198116  418279  390611\n",
       "50  2021-05-11  461040789541   80827215918  397961  418279\n",
       "51  2021-05-10  455448294001   61625657297  393275  397961\n",
       "52  2021-05-09  450716254203   60174921874  391274  393275\n",
       "53  2021-05-08  404284565610   44980768421  349353  391274\n",
       "54  2021-05-07  405355930466   50430169753  349508  349353\n",
       "55  2021-05-06  409191426696   63552342594  352456  349508\n",
       "56  2021-05-05  380565712270   78437235046  324566  352456\n",
       "57  2021-05-04  398258027094   64192650586  343986  324566\n",
       "58  2021-05-03  341953594507   35727432416  295330  343986\n",
       "59  2021-05-02  340730211564   36721647718  294492  295330"
      ]
     },
     "execution_count": 16,
     "metadata": {},
     "output_type": "execute_result"
    }
   ],
   "source": [
    "result['Close'] = result['Close'].replace('N/A', 'NaN')\n",
    "result"
   ]
  },
  {
   "cell_type": "code",
   "execution_count": 17,
   "metadata": {},
   "outputs": [],
   "source": [
    "result['Date'] = result['Date'].astype('datetime64')\n",
    "result['Market Cap'] = result['Market Cap'].astype('float64')\n",
    "result['Volume'] = result['Volume'].astype('float64')\n",
    "result['Open'] = result['Open'].astype('float64')\n",
    "result['Close'] = result['Close'].astype('float64')"
   ]
  },
  {
   "cell_type": "code",
   "execution_count": 18,
   "metadata": {
    "scrolled": true
   },
   "outputs": [
    {
     "data": {
      "text/plain": [
       "Date          datetime64[ns]\n",
       "Market Cap           float64\n",
       "Volume               float64\n",
       "Open                 float64\n",
       "Close                float64\n",
       "dtype: object"
      ]
     },
     "execution_count": 18,
     "metadata": {},
     "output_type": "execute_result"
    }
   ],
   "source": [
    "result.dtypes"
   ]
  },
  {
   "cell_type": "markdown",
   "metadata": {},
   "source": [
    "Then, we need to input the blank cell using \"Fillna\""
   ]
  },
  {
   "cell_type": "code",
   "execution_count": 19,
   "metadata": {},
   "outputs": [
    {
     "data": {
      "text/html": [
       "<div>\n",
       "<style scoped>\n",
       "    .dataframe tbody tr th:only-of-type {\n",
       "        vertical-align: middle;\n",
       "    }\n",
       "\n",
       "    .dataframe tbody tr th {\n",
       "        vertical-align: top;\n",
       "    }\n",
       "\n",
       "    .dataframe thead th {\n",
       "        text-align: right;\n",
       "    }\n",
       "</style>\n",
       "<table border=\"1\" class=\"dataframe\">\n",
       "  <thead>\n",
       "    <tr style=\"text-align: right;\">\n",
       "      <th></th>\n",
       "      <th>Date</th>\n",
       "      <th>Market Cap</th>\n",
       "      <th>Volume</th>\n",
       "      <th>Open</th>\n",
       "      <th>Close</th>\n",
       "    </tr>\n",
       "  </thead>\n",
       "  <tbody>\n",
       "    <tr>\n",
       "      <th>0</th>\n",
       "      <td>2021-06-30</td>\n",
       "      <td>2.536075e+11</td>\n",
       "      <td>2.714914e+10</td>\n",
       "      <td>216940.0</td>\n",
       "      <td>216940.0</td>\n",
       "    </tr>\n",
       "    <tr>\n",
       "      <th>1</th>\n",
       "      <td>2021-06-29</td>\n",
       "      <td>2.430405e+11</td>\n",
       "      <td>3.062933e+10</td>\n",
       "      <td>208752.0</td>\n",
       "      <td>216940.0</td>\n",
       "    </tr>\n",
       "    <tr>\n",
       "      <th>2</th>\n",
       "      <td>2021-06-28</td>\n",
       "      <td>2.293540e+11</td>\n",
       "      <td>2.431641e+10</td>\n",
       "      <td>197393.0</td>\n",
       "      <td>208752.0</td>\n",
       "    </tr>\n",
       "    <tr>\n",
       "      <th>3</th>\n",
       "      <td>2021-06-27</td>\n",
       "      <td>2.099893e+11</td>\n",
       "      <td>2.424951e+10</td>\n",
       "      <td>181705.0</td>\n",
       "      <td>197393.0</td>\n",
       "    </tr>\n",
       "    <tr>\n",
       "      <th>4</th>\n",
       "      <td>2021-06-26</td>\n",
       "      <td>2.138718e+11</td>\n",
       "      <td>2.598138e+10</td>\n",
       "      <td>183346.0</td>\n",
       "      <td>181705.0</td>\n",
       "    </tr>\n",
       "    <tr>\n",
       "      <th>5</th>\n",
       "      <td>2021-06-25</td>\n",
       "      <td>2.316443e+11</td>\n",
       "      <td>2.244749e+10</td>\n",
       "      <td>199008.0</td>\n",
       "      <td>183346.0</td>\n",
       "    </tr>\n",
       "    <tr>\n",
       "      <th>6</th>\n",
       "      <td>2021-06-24</td>\n",
       "      <td>2.295187e+11</td>\n",
       "      <td>2.809874e+10</td>\n",
       "      <td>197111.0</td>\n",
       "      <td>199008.0</td>\n",
       "    </tr>\n",
       "    <tr>\n",
       "      <th>7</th>\n",
       "      <td>2021-06-23</td>\n",
       "      <td>2.168768e+11</td>\n",
       "      <td>3.875502e+10</td>\n",
       "      <td>187536.0</td>\n",
       "      <td>197111.0</td>\n",
       "    </tr>\n",
       "    <tr>\n",
       "      <th>8</th>\n",
       "      <td>2021-06-22</td>\n",
       "      <td>2.232027e+11</td>\n",
       "      <td>3.949996e+10</td>\n",
       "      <td>190012.0</td>\n",
       "      <td>187536.0</td>\n",
       "    </tr>\n",
       "    <tr>\n",
       "      <th>9</th>\n",
       "      <td>2021-06-21</td>\n",
       "      <td>2.614782e+11</td>\n",
       "      <td>2.623585e+10</td>\n",
       "      <td>225156.0</td>\n",
       "      <td>190012.0</td>\n",
       "    </tr>\n",
       "  </tbody>\n",
       "</table>\n",
       "</div>"
      ],
      "text/plain": [
       "        Date    Market Cap        Volume      Open     Close\n",
       "0 2021-06-30  2.536075e+11  2.714914e+10  216940.0  216940.0\n",
       "1 2021-06-29  2.430405e+11  3.062933e+10  208752.0  216940.0\n",
       "2 2021-06-28  2.293540e+11  2.431641e+10  197393.0  208752.0\n",
       "3 2021-06-27  2.099893e+11  2.424951e+10  181705.0  197393.0\n",
       "4 2021-06-26  2.138718e+11  2.598138e+10  183346.0  181705.0\n",
       "5 2021-06-25  2.316443e+11  2.244749e+10  199008.0  183346.0\n",
       "6 2021-06-24  2.295187e+11  2.809874e+10  197111.0  199008.0\n",
       "7 2021-06-23  2.168768e+11  3.875502e+10  187536.0  197111.0\n",
       "8 2021-06-22  2.232027e+11  3.949996e+10  190012.0  187536.0\n",
       "9 2021-06-21  2.614782e+11  2.623585e+10  225156.0  190012.0"
      ]
     },
     "execution_count": 19,
     "metadata": {},
     "output_type": "execute_result"
    }
   ],
   "source": [
    "result.fillna(method='bfill').head(10)"
   ]
  },
  {
   "cell_type": "markdown",
   "metadata": {},
   "source": [
    "## Data Visualisation\n",
    "\n",
    "Visualisation our data with the help of the .plot() function.\n",
    "First of all, we need to set \"Date\" as index. Then make graph for each variable"
   ]
  },
  {
   "cell_type": "code",
   "execution_count": 20,
   "metadata": {},
   "outputs": [],
   "source": [
    "result = result.set_index('Date')"
   ]
  },
  {
   "cell_type": "code",
   "execution_count": 21,
   "metadata": {
    "scrolled": false
   },
   "outputs": [
    {
     "data": {
      "text/plain": [
       "<AxesSubplot:xlabel='Date'>"
      ]
     },
     "execution_count": 21,
     "metadata": {},
     "output_type": "execute_result"
    },
    {
     "data": {
      "image/png": "[encoded data removed]",
      "text/plain": [
       "<Figure size 432x288 with 1 Axes>"
      ]
     },
     "metadata": {
      "needs_background": "light"
     },
     "output_type": "display_data"
    }
   ],
   "source": [
    "result['Volume'].plot()"
   ]
  },
  {
   "cell_type": "markdown",
   "metadata": {},
   "source": [
    "Insight:\n",
    "- Volume transaksi ethereum pada Mei-Juli 2021 sangat fluktuatif, \n",
    "- Lonjakan volume transaksi ethereum terjadi pada minggu ketiga bulan Mei\n",
    "- Setelah minggu ketiga, volume transaksi perlahan-lahan turun sampai di akhir bulan Juni"
   ]
  },
  {
   "cell_type": "markdown",
   "metadata": {},
   "source": [
    "### Implementing your webscrapping to the flask dashboard\n",
    "\n",
    "- Copy paste all of your web scrapping process to the desired position on the `app.py`\n",
    "- Changing the title of the dasboard at `index.html`"
   ]
  },
  {
   "cell_type": "markdown",
   "metadata": {},
   "source": [
    "## Finishing This Notebook with Your Analysis and Conclusion\n",
    "\n",
    "First you can do start with making the data visualisation. "
   ]
  },
  {
   "cell_type": "markdown",
   "metadata": {},
   "source": [
    "Summary:\n",
    "- Beautiful soup adalah salah satu library di Python yang digunakan untuk melakukan scrapping data di website\n",
    "- Pada saat melakukan scrapping dengan beautiful soup perlu mengetahui struktur web dan bagian-bagian mana saja yang datanya akan diambil\n",
    "- Untuk melihat struktur web yang akan discrapping, kita perlu membuka link pada web browser dan melakukan inspect element dengan klik kanan lalu pilih inspect.\n",
    "- Salah satu fungsi dari BeautifulSoup adalah untuk merapikan file html dengan memberikan identasi dan newline. Syntaxnya adalah soup.prettify()\n",
    "- Define variable baru yang kita temukan dengan menggunakan fungsi find() dari Library BeautifulSoup. Fungsi find() akan mengambil data berdasarkan tag HTML.\n",
    "- Untuk mengambil konten HTML dengan tag yang sama dapat menggunakan fungsi find_all()\n",
    "- Data yang telah diambil dapat dibuat dataframe dengan pd.DataFrame() dan selanjutkan dapat diolah (cleaning) dan analisis"
   ]
  },
  {
   "cell_type": "markdown",
   "metadata": {},
   "source": [
    "### Extra Challange\n",
    "\n",
    "This will be not included to the scoring. \n",
    "\n",
    "- You can create additional analysis from the data.\n",
    "- Implement it to the dashboard with at `app.py` dan `index.html`."
   ]
  },
  {
   "cell_type": "code",
   "execution_count": null,
   "metadata": {},
   "outputs": [],
   "source": []
  }
 ],
 "metadata": {
  "kernelspec": {
   "display_name": "rhea_da",
   "language": "python",
   "name": "rhea_da"
  },
  "language_info": {
   "codemirror_mode": {
    "name": "ipython",
    "version": 3
   },
   "file_extension": ".py",
   "mimetype": "text/x-python",
   "name": "python",
   "nbconvert_exporter": "python",
   "pygments_lexer": "ipython3",
   "version": "3.9.7"
  }
 },
 "nbformat": 4,
 "nbformat_minor": 2
}
